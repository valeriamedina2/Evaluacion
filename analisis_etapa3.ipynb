{
  "nbformat": 4,
  "nbformat_minor": 0,
  "metadata": {
    "colab": {
      "provenance": [],
      "authorship_tag": "ABX9TyNq0fOa0wsIwb5DnMiBMMVy",
      "include_colab_link": true
    },
    "kernelspec": {
      "name": "python3",
      "display_name": "Python 3"
    },
    "language_info": {
      "name": "python"
    }
  },
  "cells": [
    {
      "cell_type": "markdown",
      "metadata": {
        "id": "view-in-github",
        "colab_type": "text"
      },
      "source": [
        "<a href=\"https://colab.research.google.com/github/valeriamedina2/Evaluacion/blob/main/analisis_etapa3.ipynb\" target=\"_parent\"><img src=\"https://colab.research.google.com/assets/colab-badge.svg\" alt=\"Open In Colab\"/></a>"
      ]
    },
    {
      "cell_type": "markdown",
      "source": [
        "#ANALISIS DE LAS VARIABLES (ETAPA 3 EXTRACCION)\n",
        "##Valeria Medina \n",
        "##A01275070"
      ],
      "metadata": {
        "id": "hAsWWhULiuXL"
      }
    },
    {
      "cell_type": "markdown",
      "source": [
        "En la última etapa de la evalución se decidio elegir 5 variables para las 3 bases de datos con las que estabamos trabajando, con el fin de tener un analisis comparativo de ellas. \n",
        "Inicialmente se elegio la variable 'host_response_time', en el cual observamos que los 3 países tienden a contestar dentro de la primer hora del mensaje enviado, es importante mencionar que puede que salgan numeros mas altos para los 3 df debido a la cantidad de usuarios que haya en ese sitio. Además con esto observamos que en las 3 localidades los dueños atienden pronto a las personas que se quieren hosepedar en el lugar que se esta rentando. \n",
        "\n",
        "Por el otro lado decidi analizar la variable 'host_identity_verified', en la cual observamos al igual que en la variable anterior, que los host tienden a estar verificados y que los que no lo estan, son una minima cantidad. Me gustaria mencionar que en este caso el numero que se puede observar cambia bastante a la cantidad que anteriormente se mencionó. \n",
        "\n",
        "La tercera variable analizada 'property_type' nos arrojo como resultado que aqui e cambian un poco mas los resultados, debido que para california lo que mas hay son la casa completa y todo el condo. En España muestra que existen solo la mayoria de las veces rentas enteras, lo que me refiero es que es mas facil rentar cuartos enteros que una casa entera, a comparacion de california. Finalmente en Mexico sucede lo mismo que en España ya que es mas sencillo encontrar lugares como departamentos, lofts, entre otras que casas. \n",
        "Por lo que si estan buscando donde es mas sencillo encotrar casas de airbnb su repuesta seria California.\n",
        "\n",
        "\n",
        "La cuarta variable analizada fue 'has_availability', en donde el resultado que nos arrojo fue muy parecido entre las 3, ya que muestra un porcentaje mucho mayor indicando que si estan disponibles. Por lo que encontrar un lugar no es dificil. \n",
        "\n",
        "Ahora para la 5 variable donde se escogio 'instant_bookable', nos muestra que a pesar que los lugares si estan disponibles, en california un 75% no estan disponibles para rentarlas inmediatamente y 25 % si . Para España un 54% si esta dispoible y en Mexico solo un 25% esta disponible. \n",
        "Lo que nos inidica que a pesar que estos lugares se encuentren disponibles, se debe anticipiar al host con tiempo si es que sera rentado su sitio ya que no estaran dispoibles inmediatamente. \n",
        "Como resultado obtenemos que tomando en cuenta esta variable, se debe de anticipar para México con mas tiempo si es que se desea elegir un lugar ahi, despues California y finalmente España el cual casi es el doble de disponibilidad que hay a comparacion de los otros dos sitios. \n"
      ],
      "metadata": {
        "id": "Mnk8FlyajD_j"
      }
    }
  ]
}